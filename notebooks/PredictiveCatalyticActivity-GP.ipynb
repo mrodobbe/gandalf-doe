{
 "cells": [
  {
   "cell_type": "markdown",
   "id": "e58b32bd",
   "metadata": {},
   "source": [
    "# 1. Load Packages"
   ]
  },
  {
   "cell_type": "code",
   "execution_count": null,
   "id": "ea387db2",
   "metadata": {},
   "outputs": [],
   "source": [
    "from gandalf_doe.experiment import Experiment\n",
    "from gandalf_doe.domain import Domain, Variable\n",
    "import matplotlib.pylab as plt\n",
    "from matplotlib import font_manager\n",
    "from matplotlib.font_manager import FontProperties\n",
    "import numpy as np\n",
    "from sklearn.metrics import mean_absolute_error, mean_squared_error, r2_score\n",
    "from sklearn.ensemble import RandomForestRegressor\n",
    "from sklearn.model_selection import StratifiedKFold, cross_val_score, KFold, RepeatedStratifiedKFold, GridSearchCV\n",
    "import pickle\n",
    "import pandas as pd"
   ]
  },
  {
   "cell_type": "markdown",
   "id": "fa8e9017",
   "metadata": {},
   "source": [
    "# 2. Data Splitting"
   ]
  },
  {
   "cell_type": "code",
   "execution_count": null,
   "id": "9690226e",
   "metadata": {},
   "outputs": [],
   "source": [
    "df_train = pd.read_excel(\"../test_data/dataset.xlsx\", index_col=0, sheet_name=\"Training\")\n",
    "df_train.head(1)"
   ]
  },
  {
   "cell_type": "code",
   "execution_count": null,
   "id": "d7d0a156",
   "metadata": {},
   "outputs": [],
   "source": [
    "df_test = pd.read_excel(\"../test_data/dataset.xlsx\", index_col=0, sheet_name=\"Test\")\n",
    "df_test.head(1)"
   ]
  },
  {
   "cell_type": "code",
   "execution_count": null,
   "id": "b0c31927",
   "metadata": {},
   "outputs": [],
   "source": [
    "all_samples = pd.concat([df_train, df_test]).reset_index(drop=True)\n",
    "all_samples.head(1)"
   ]
  },
  {
   "cell_type": "code",
   "execution_count": null,
   "id": "94608dd4",
   "metadata": {},
   "outputs": [],
   "source": [
    "# Determined by Mahalanobis distance\n",
    "\n",
    "inter_train = all_samples.drop([5, 9, 12, 13, 16, 17, 21, 31, 37, 43])\n",
    "inter_test = all_samples.loc[[5, 9, 12, 13, 16, 17, 21, 31, 37, 43]]"
   ]
  },
  {
   "cell_type": "markdown",
   "id": "8c017504",
   "metadata": {},
   "source": [
    "# 3. Data Normalization"
   ]
  },
  {
   "cell_type": "code",
   "execution_count": null,
   "id": "ef255598",
   "metadata": {},
   "outputs": [],
   "source": [
    "variables = ['Temperature', 'Pressure', 'GHSV', 'Ni', 'Co', 'Calcination', 'Reduction']"
   ]
  },
  {
   "cell_type": "code",
   "execution_count": null,
   "id": "f9f00035",
   "metadata": {},
   "outputs": [],
   "source": [
    "scale_max = np.array([7.63e+02, 1.00e+01, 2.64e+04, 2.50e+01, 1.00e+01, 9.23e+02, 9.23e+02])\n",
    "scale_min = np.array([5.23e+02, 1.00e+00, 3.30e+03, 0.00e+00, 0.00e+00, 6.23e+02, 6.23e+02])"
   ]
  },
  {
   "cell_type": "code",
   "execution_count": null,
   "id": "f702d43d",
   "metadata": {},
   "outputs": [],
   "source": [
    "domain = Domain()\n",
    "domain.add_variable([Variable(\"Temperature\", \"reaction_temperature\", np.arange(523, 783, 10), \"discrete\")])\n",
    "domain.add_variable([Variable(\"Pressure\", \"reactor_pressure\", np.arange(1, 11, 1), \"discrete\")])\n",
    "domain.add_variable([Variable(\"GHSV\", \"gas_hourly_space_velocity\", np.arange(3300, 28050, 1650), \"discrete\")])\n",
    "domain.add_variable([Variable(\"Ni\", \"nickel_load\", np.arange(0 , 26, 1), \"discrete\")])\n",
    "domain.add_variable([Variable(\"Co\", \"cobalt_load\", np.arange(0 , 11, 1), \"discrete\")])\n",
    "domain.add_variable([Variable(\"Calcination\", \"calcination_temperature\", np.arange(623 , 973, 50), \"discrete\")])\n",
    "domain.add_variable([Variable(\"Reduction\", \"reduction_temperature\", np.arange(623 , 973, 50), \"discrete\")])\n",
    "domain.setup_space()\n",
    "variables = [var.name for var in domain.variables]"
   ]
  },
  {
   "cell_type": "markdown",
   "id": "43e32c65",
   "metadata": {},
   "source": [
    "# 4. Repeated k-fold Cross-Validation"
   ]
  },
  {
   "cell_type": "code",
   "execution_count": null,
   "id": "d9ff47d7",
   "metadata": {},
   "outputs": [],
   "source": [
    "def cross_validation_conversion(X, y, n_splits=8, n_repeats=4):\n",
    "    outer_results = {\"INDEX\": [], \"PRED\": [], \"TRUE\": []}\n",
    "\n",
    "    outer_cv = RepeatedStratifiedKFold(n_splits=n_splits, random_state=120897, n_repeats=n_repeats)\n",
    "\n",
    "    for train_index, test_index in outer_cv.split(X, np.digitize(y, np.percentile(y, np.arange(0, 100, 10)))):\n",
    "        X_train, X_test = X[train_index], X[test_index]\n",
    "        y_train, y_test = y[train_index], y[test_index]\n",
    "\n",
    "        variables = [var.name for var in domain.variables]\n",
    "        exp = Experiment(domain, n_init=3, mode=\"EMOC\", clustering=True, scaling=20000)\n",
    "        \n",
    "        sug = pd.DataFrame([])\n",
    "        sug[variables] = X_train\n",
    "        sug[\"output\"] = y_train\n",
    "        pred = exp.predict_outcome(x_new=X_test, previous=sug)[\"mean\"].to_numpy()\n",
    "        y_pred = np.clip(pred, 0, 100)\n",
    "        \n",
    "        # Store the results\n",
    "        outer_results[\"INDEX\"] += list(test_index)\n",
    "        outer_results[\"PRED\"] += list(y_pred)\n",
    "        outer_results[\"TRUE\"] += list(y_test)\n",
    "\n",
    "    # Compute final metrics on the outer results\n",
    "    res = pd.DataFrame(outer_results)\n",
    "    true_data = res[\"TRUE\"].to_numpy()\n",
    "    pred_data = res[\"PRED\"].to_numpy()\n",
    "\n",
    "    mae = mean_absolute_error(true_data, pred_data)\n",
    "    rmse = np.sqrt(mean_squared_error(true_data, pred_data))\n",
    "    r2 = r2_score(true_data, pred_data)\n",
    "\n",
    "    print(f\"CV Performance: MAE: {mae:.2f}, RMSE: {rmse:.2f}, R2: {r2:.3f}\")\n",
    "    \n",
    "    return mae, rmse, r2"
   ]
  },
  {
   "cell_type": "code",
   "execution_count": null,
   "id": "b596daec",
   "metadata": {},
   "outputs": [],
   "source": [
    "def cross_validation_sty(X, y, ghsv, n_splits=8, n_repeats=4):\n",
    "    outer_results = {\"INDEX\": [], \"PRED\": [], \"TRUE\": []}\n",
    "\n",
    "    outer_cv = RepeatedStratifiedKFold(n_splits=n_splits, random_state=120897, n_repeats=n_repeats)\n",
    "\n",
    "    for train_index, test_index in outer_cv.split(X, np.digitize(y, np.percentile(y, np.arange(0, 100, 10)))):\n",
    "        X_train, X_test = X[train_index], X[test_index]\n",
    "        y_train, y_test = y[train_index], y[test_index]\n",
    "        ghsv_test = ghsv[test_index]\n",
    "\n",
    "        variables = [var.name for var in domain.variables]\n",
    "        exp = Experiment(domain, n_init=3, mode=\"EMOC\", clustering=True, scaling=20000)\n",
    "        \n",
    "        sug = pd.DataFrame([])\n",
    "        sug[variables] = X_train\n",
    "        sug[\"output\"] = y_train\n",
    "        pred = exp.predict_outcome(x_new=X_test, previous=sug)[\"mean\"].to_numpy()\n",
    "        y_pred = np.clip(pred, 0, 100)\n",
    "        preds = (y_pred / 100) * ghsv_test * (12.011 + 4*1.0079) / (5*22400)\n",
    "        trues = (y_test / 100) * ghsv_test * (12.011 + 4*1.0079) / (5*22400)\n",
    "        \n",
    "        outer_results[\"INDEX\"] += list(test_index)\n",
    "        outer_results[\"PRED\"] += list(preds)\n",
    "        outer_results[\"TRUE\"] += list(trues)\n",
    "\n",
    "    res = pd.DataFrame(outer_results)\n",
    "    true_data = res[\"TRUE\"].to_numpy()\n",
    "    pred_data = np.clip(res[\"PRED\"].to_numpy(), 0, 100)\n",
    "\n",
    "    mae = mean_absolute_error(true_data, pred_data)\n",
    "    rmse = np.sqrt(mean_squared_error(true_data, pred_data))\n",
    "    r2 = r2_score(true_data, pred_data)\n",
    "\n",
    "    print(f\"CV Performance: MAE: {mae:.2f}, RMSE: {rmse:.2f}, R2: {r2:.3f}\")\n",
    "    \n",
    "    return mae, rmse, r2"
   ]
  },
  {
   "cell_type": "code",
   "execution_count": null,
   "id": "7f5e0712",
   "metadata": {},
   "outputs": [],
   "source": [
    "cross_validation_conversion(df_train[variables].to_numpy(), df_train[\"Conversion\"].to_numpy())"
   ]
  },
  {
   "cell_type": "code",
   "execution_count": null,
   "id": "147fff63",
   "metadata": {},
   "outputs": [],
   "source": [
    "cross_validation_sty(df_train[variables].to_numpy(), df_train[\"STY\"].to_numpy(), df_train[\"GHSV\"].to_numpy())"
   ]
  },
  {
   "cell_type": "markdown",
   "id": "a75da7b8",
   "metadata": {},
   "source": [
    "# Predict interpolation and extrapolation sets"
   ]
  },
  {
   "cell_type": "markdown",
   "id": "ba457094",
   "metadata": {},
   "source": [
    "## Conversion"
   ]
  },
  {
   "cell_type": "code",
   "execution_count": null,
   "id": "a50062a8",
   "metadata": {},
   "outputs": [],
   "source": [
    "exp = Experiment(domain, n_init=3, mode=\"EMOC\", clustering=True, scaling=20000)"
   ]
  },
  {
   "cell_type": "code",
   "execution_count": null,
   "id": "41b9476d",
   "metadata": {},
   "outputs": [],
   "source": [
    "# Interpolation\n",
    "\n",
    "sug = pd.DataFrame([])\n",
    "sug[variables] = inter_train[variables].to_numpy()\n",
    "sug[\"output\"] = inter_train[\"Conversion\"].to_numpy()\n",
    "pred = exp.predict_outcome(x_new=inter_test[variables].to_numpy(), previous=sug)[\"mean\"].to_numpy()\n",
    "inter_preds = np.clip(pred, 0, 100)\n",
    "print(\"MAE:\", mean_absolute_error(inter_test[\"Conversion\"].to_numpy(), inter_preds))\n",
    "print(\"RMSE:\", np.sqrt(mean_squared_error(inter_test[\"Conversion\"].to_numpy(), inter_preds)))\n",
    "print(\"R2:\", r2_score(inter_test[\"Conversion\"].to_numpy(), inter_preds))"
   ]
  },
  {
   "cell_type": "code",
   "execution_count": null,
   "id": "c985d459",
   "metadata": {},
   "outputs": [],
   "source": [
    "# Extrapolation\n",
    "\n",
    "sug = pd.DataFrame([])\n",
    "sug[variables] = df_train[variables].to_numpy()\n",
    "sug[\"output\"] = df_train[\"Conversion\"].to_numpy()\n",
    "pred = exp.predict_outcome(x_new=df_test[variables].to_numpy(), previous=sug)[\"mean\"].to_numpy()\n",
    "extra_preds = np.clip(pred, 0, 100)\n",
    "print(\"MAE:\", mean_absolute_error(df_test[\"Conversion\"].to_numpy(), extra_preds))\n",
    "print(\"RMSE:\", np.sqrt(mean_squared_error(df_test[\"Conversion\"].to_numpy(), extra_preds)))\n",
    "print(\"R2:\", r2_score(df_test[\"Conversion\"].to_numpy(), extra_preds))"
   ]
  },
  {
   "cell_type": "markdown",
   "id": "511b4371",
   "metadata": {},
   "source": [
    "## STY"
   ]
  },
  {
   "cell_type": "code",
   "execution_count": null,
   "id": "b3c96ddc",
   "metadata": {},
   "outputs": [],
   "source": [
    "exp = Experiment(domain, n_init=3, mode=\"EMOC\", clustering=True, scaling=20000)"
   ]
  },
  {
   "cell_type": "code",
   "execution_count": null,
   "id": "984129b5",
   "metadata": {},
   "outputs": [],
   "source": [
    "# Interpolation\n",
    "\n",
    "sug = pd.DataFrame([])\n",
    "sug[variables] = inter_train[variables].to_numpy()\n",
    "sug[\"output\"] = inter_train[\"Yield\"].to_numpy() * 100\n",
    "pred = exp.predict_outcome(x_new=inter_test[variables].to_numpy(), previous=sug)[\"mean\"].to_numpy()\n",
    "inter_preds = np.clip(pred, 0, 10000) / 10000 * inter_test[\"GHSV\"].to_numpy() * (12.011 + 4*1.0079) / (5*22400)\n",
    "print(\"MAE:\", mean_absolute_error(inter_test[\"STY\"].to_numpy(), inter_preds))\n",
    "print(\"RMSE:\", np.sqrt(mean_squared_error(inter_test[\"STY\"].to_numpy(), inter_preds)))\n",
    "print(\"R2:\", r2_score(inter_test[\"STY\"].to_numpy(), inter_preds))"
   ]
  },
  {
   "cell_type": "code",
   "execution_count": null,
   "id": "4c3e6504",
   "metadata": {},
   "outputs": [],
   "source": [
    "# Extrapolation\n",
    "\n",
    "sug = pd.DataFrame([])\n",
    "sug[variables] = df_train[variables].to_numpy()\n",
    "sug[\"output\"] = df_train[\"Yield\"].to_numpy() * 100\n",
    "pred = exp.predict_outcome(x_new=df_test[variables].to_numpy(), previous=sug)[\"mean\"].to_numpy()\n",
    "extra_preds = np.clip(pred, 0, 10000) / 10000 * df_test[\"GHSV\"].to_numpy() * (12.011 + 4*1.0079) / (5*22400)\n",
    "print(\"MAE:\", mean_absolute_error(df_test[\"STY\"].to_numpy(), extra_preds))\n",
    "print(\"RMSE:\", np.sqrt(mean_squared_error(df_test[\"STY\"].to_numpy(), extra_preds)))\n",
    "print(\"R2:\", r2_score(df_test[\"STY\"].to_numpy(), extra_preds))"
   ]
  },
  {
   "cell_type": "code",
   "execution_count": null,
   "id": "cbcecd36",
   "metadata": {},
   "outputs": [],
   "source": []
  }
 ],
 "metadata": {
  "kernelspec": {
   "display_name": "gandalf-doe",
   "language": "python",
   "name": "gandalf-doe"
  },
  "language_info": {
   "codemirror_mode": {
    "name": "ipython",
    "version": 3
   },
   "file_extension": ".py",
   "mimetype": "text/x-python",
   "name": "python",
   "nbconvert_exporter": "python",
   "pygments_lexer": "ipython3",
   "version": "3.7.12"
  }
 },
 "nbformat": 4,
 "nbformat_minor": 5
}
