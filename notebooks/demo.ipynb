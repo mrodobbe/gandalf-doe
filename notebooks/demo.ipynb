{
 "cells": [
  {
   "cell_type": "markdown",
   "id": "c9ad7f0d",
   "metadata": {},
   "source": [
    "# 1. Load Packages"
   ]
  },
  {
   "cell_type": "code",
   "execution_count": null,
   "id": "ab775410",
   "metadata": {},
   "outputs": [],
   "source": [
    "from gandalf_doe.experiment import Experiment\n",
    "from gandalf_doe.domain import Domain, Variable\n",
    "import numpy as np\n",
    "import pandas as pd"
   ]
  },
  {
   "cell_type": "markdown",
   "id": "edbe17dd",
   "metadata": {},
   "source": [
    "# 2. Creating the design space"
   ]
  },
  {
   "cell_type": "markdown",
   "id": "4d2b0ae7",
   "metadata": {},
   "source": [
    "### 2.1 Create a domain by calling the class"
   ]
  },
  {
   "cell_type": "code",
   "execution_count": null,
   "id": "1c2b3ae1",
   "metadata": {},
   "outputs": [],
   "source": [
    "domain = Domain()"
   ]
  },
  {
   "cell_type": "markdown",
   "id": "4b32df59",
   "metadata": {},
   "source": [
    "### 2.2 Add variables to the domain with `add_variable`"
   ]
  },
  {
   "cell_type": "code",
   "execution_count": null,
   "id": "69e5df02",
   "metadata": {},
   "outputs": [],
   "source": [
    "first_variable = Variable(name=\"Temperature\",   # Name of the variable\n",
    "                          desc=\"reaction_temperature\",  # A description of the variable\n",
    "                          domain=np.arange(523, 783, 10),  # The possible values of the \n",
    "                          var_type=\"discrete\",  # Variable type: continuous, discrete, or categorical\n",
    "                         )"
   ]
  },
  {
   "cell_type": "code",
   "execution_count": null,
   "id": "2b1f89ed",
   "metadata": {},
   "outputs": [],
   "source": [
    "domain.add_variable([first_variable])"
   ]
  },
  {
   "cell_type": "code",
   "execution_count": null,
   "id": "44190605",
   "metadata": {},
   "outputs": [],
   "source": [
    "# Add more variables\n",
    "\n",
    "domain.add_variable([Variable(\"Pressure\", \"reactor_pressure\", np.arange(1, 11, 1), \"discrete\")])\n",
    "domain.add_variable([Variable(\"GHSV\", \"gas_hourly_space_velocity\", np.arange(3300, 28050, 1650), \"discrete\")])\n",
    "domain.add_variable([Variable(\"Ni\", \"nickel_load\", np.arange(0 , 26, 1), \"discrete\")])\n",
    "domain.add_variable([Variable(\"Co\", \"cobalt_load\", np.arange(0 , 11, 1), \"discrete\")])\n",
    "domain.add_variable([Variable(\"Calcination\", \"calcination_temperature\", np.arange(623 , 973, 50), \"discrete\")])\n",
    "domain.add_variable([Variable(\"Reduction\", \"reduction_temperature\", np.arange(623 , 973, 50), \"discrete\")])"
   ]
  },
  {
   "cell_type": "markdown",
   "id": "130feb2c",
   "metadata": {},
   "source": [
    "### 2.3 Set up the design space"
   ]
  },
  {
   "cell_type": "code",
   "execution_count": null,
   "id": "a7152fe6",
   "metadata": {},
   "outputs": [],
   "source": [
    "domain.setup_space()"
   ]
  },
  {
   "cell_type": "markdown",
   "id": "3059cbf7",
   "metadata": {},
   "source": [
    "# 3. Initialize the active learning process"
   ]
  },
  {
   "cell_type": "markdown",
   "id": "49757803",
   "metadata": {},
   "source": [
    "### 3.1 Create the experiment"
   ]
  },
  {
   "cell_type": "code",
   "execution_count": null,
   "id": "76ba2f28",
   "metadata": {},
   "outputs": [],
   "source": [
    "exp = Experiment(domain=domain,  # The design space\n",
    "                 pool_size=100000,  # The size of the initial pool\n",
    "                 n_init=3,  # Number of initial data points that should be returned\n",
    "                 normalize=True,  # Normalizing the inputs\n",
    "                 mode=\"EMOC\",  # Acquisition function\n",
    "                 clustering=True,  # Use clustering in EMOC as described in paper\n",
    "                 scaling=200,  # Scaling factor for pool after each iteration\n",
    "                )"
   ]
  },
  {
   "cell_type": "markdown",
   "id": "d491491b",
   "metadata": {},
   "source": [
    "### 3.2 Suggest initial experiments"
   ]
  },
  {
   "cell_type": "code",
   "execution_count": null,
   "id": "3d018fc7",
   "metadata": {},
   "outputs": [],
   "source": [
    "initial_suggestions = exp.initialize_experiments()"
   ]
  },
  {
   "cell_type": "code",
   "execution_count": null,
   "id": "ff063292",
   "metadata": {},
   "outputs": [],
   "source": [
    "initial_suggestions"
   ]
  },
  {
   "cell_type": "markdown",
   "id": "7265b713",
   "metadata": {},
   "source": [
    "# 4. Suggest one new experiment with EMOC"
   ]
  },
  {
   "cell_type": "code",
   "execution_count": null,
   "id": "801d7fd6",
   "metadata": {},
   "outputs": [],
   "source": [
    "dataset = pd.read_excel(\"../test_data/dataset.xlsx\", index_col=None)  # Suggest new data points given previous data"
   ]
  },
  {
   "cell_type": "code",
   "execution_count": null,
   "id": "fd30dab5",
   "metadata": {},
   "outputs": [],
   "source": [
    "new_suggestion = exp.suggest_experiments(previous=dataset.copy())\n",
    "new_suggestion.tail(5)"
   ]
  },
  {
   "cell_type": "markdown",
   "id": "929efa8b",
   "metadata": {},
   "source": [
    "# 5. Suggest a batch of experiments"
   ]
  },
  {
   "cell_type": "code",
   "execution_count": null,
   "id": "5c4ed890",
   "metadata": {},
   "outputs": [],
   "source": [
    "dataset = pd.read_excel(\"../test_data/dataset.xlsx\", index_col=None)"
   ]
  },
  {
   "cell_type": "code",
   "execution_count": null,
   "id": "25a6ed1e",
   "metadata": {},
   "outputs": [],
   "source": [
    "new_suggestions = exp.suggest_batch_of_experiments(previous=dataset.copy(),  # previous data\n",
    "                                                   n_clusters=3,   # number of different clusters to be picked\n",
    "                                                   n_conditions=3,   # number of conditions similar to the value picked per cluster\n",
    "                                                   constants=[3, 4, 5, 6],  # which parameters to be kept constant when picking conditions\n",
    "                                                  )\n",
    "new_suggestions.tail(20)"
   ]
  },
  {
   "cell_type": "markdown",
   "id": "de41809e",
   "metadata": {},
   "source": [
    "# 6. Predict outcome"
   ]
  },
  {
   "cell_type": "code",
   "execution_count": null,
   "id": "9b86a5a2",
   "metadata": {},
   "outputs": [],
   "source": [
    "predictions = exp.predict_outcome(x_new=np.array([663.0, 2.0, 12500.0, 20.0, 3.0, 723.0, 723.0]), \n",
    "                                  previous=dataset)"
   ]
  },
  {
   "cell_type": "code",
   "execution_count": null,
   "id": "4d0442f2",
   "metadata": {},
   "outputs": [],
   "source": [
    "predictions"
   ]
  },
  {
   "cell_type": "code",
   "execution_count": null,
   "id": "7ec49065",
   "metadata": {},
   "outputs": [],
   "source": []
  }
 ],
 "metadata": {
  "kernelspec": {
   "display_name": "gandalf-doe",
   "language": "python",
   "name": "gandalf-doe"
  },
  "language_info": {
   "codemirror_mode": {
    "name": "ipython",
    "version": 3
   },
   "file_extension": ".py",
   "mimetype": "text/x-python",
   "name": "python",
   "nbconvert_exporter": "python",
   "pygments_lexer": "ipython3",
   "version": "3.7.12"
  }
 },
 "nbformat": 4,
 "nbformat_minor": 5
}
